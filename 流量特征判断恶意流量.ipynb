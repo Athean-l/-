{
 "cells": [
  {
   "cell_type": "markdown",
   "metadata": {},
   "source": [
    "### 解压文件"
   ]
  },
  {
   "cell_type": "code",
   "execution_count": 1,
   "metadata": {
    "ExecuteTime": {
     "end_time": "2020-07-01T12:32:14.452228Z",
     "start_time": "2020-07-01T12:32:14.445301Z"
    }
   },
   "outputs": [],
   "source": [
    "import os\n",
    "import gzip\n",
    "import numpy as np\n",
    "from scapy.all import *\n",
    "import csv\n",
    "import pandas as pd"
   ]
  },
  {
   "cell_type": "code",
   "execution_count": 9,
   "metadata": {
    "ExecuteTime": {
     "end_time": "2020-07-01T12:34:55.089447Z",
     "start_time": "2020-07-01T12:34:55.087038Z"
    }
   },
   "outputs": [],
   "source": [
    "# 解析后文件目标文件夹\n",
    "target_file = '/Users/lfg/Downloads/恶意1pcap'\n",
    "# 解析文件来源文件夹\n",
    "source_file = '/Users/lfg/Downloads/恶意1'"
   ]
  },
  {
   "cell_type": "code",
   "execution_count": 7,
   "metadata": {
    "ExecuteTime": {
     "end_time": "2020-07-01T12:34:42.070386Z",
     "start_time": "2020-07-01T12:34:42.066505Z"
    }
   },
   "outputs": [],
   "source": [
    "def un_gz(file_name,target_file):\n",
    "    names = file_name.split('/')\n",
    "    f_name = os.path.join(target_file,names[5]+'.pcap')\n",
    "    g_file = gzip.GzipFile(file_name)\n",
    "    open(f_name,'wb').write(g_file.read())\n",
    "    g_file.close()"
   ]
  },
  {
   "cell_type": "code",
   "execution_count": 10,
   "metadata": {
    "ExecuteTime": {
     "end_time": "2020-07-01T12:35:01.290068Z",
     "start_time": "2020-07-01T12:35:00.835365Z"
    },
    "scrolled": false
   },
   "outputs": [
    {
     "name": "stdout",
     "output_type": "stream",
     "text": [
      "finish\n"
     ]
    }
   ],
   "source": [
    "for root,ds,files in os.walk(source_file):\n",
    "    for f in files:\n",
    "        path = os.path.join(root,f)\n",
    "        if path.endswith('dump.gz'):\n",
    "            un_gz(path,target_file)\n",
    "print('finish')"
   ]
  },
  {
   "cell_type": "markdown",
   "metadata": {},
   "source": [
    "### 解析pcap文件并保存为csv文件"
   ]
  },
  {
   "cell_type": "code",
   "execution_count": 66,
   "metadata": {
    "ExecuteTime": {
     "end_time": "2020-09-08T06:47:37.577098Z",
     "start_time": "2020-09-08T06:47:37.569727Z"
    }
   },
   "outputs": [],
   "source": [
    "def analyse_pcap(pkts,fname):\n",
    "    df = pd.DataFrame(columns=['srcIp','distIp','srcPort','distPort','time','length','TCP'])\n",
    "    index = 0\n",
    "    for pkt in pkts:\n",
    "        m = []\n",
    "        m.append(pkt['IP'].src)\n",
    "        m.append(pkt['IP'].dst)\n",
    "        m.append(pkt['IP'].sport)\n",
    "        m.append(pkt['IP'].dport)\n",
    "        m.append(pkt.time)\n",
    "        m.append(pkt['IP'].len)\n",
    "        try:\n",
    "            if pkt['TCP']:\n",
    "                m.append(1)\n",
    "        except:\n",
    "            m.append(0)\n",
    "        df.loc[index] = m\n",
    "        index += 1\n",
    "    df.to_csv('/Users/lfg/Downloads/德宾流量/' + fname + '.csv')\n",
    "    return df"
   ]
  },
  {
   "cell_type": "code",
   "execution_count": 4,
   "metadata": {
    "ExecuteTime": {
     "end_time": "2020-09-08T03:35:06.587783Z",
     "start_time": "2020-09-08T03:35:02.317172Z"
    }
   },
   "outputs": [
    {
     "data": {
      "text/html": [
       "<div>\n",
       "<style scoped>\n",
       "    .dataframe tbody tr th:only-of-type {\n",
       "        vertical-align: middle;\n",
       "    }\n",
       "\n",
       "    .dataframe tbody tr th {\n",
       "        vertical-align: top;\n",
       "    }\n",
       "\n",
       "    .dataframe thead th {\n",
       "        text-align: right;\n",
       "    }\n",
       "</style>\n",
       "<table border=\"1\" class=\"dataframe\">\n",
       "  <thead>\n",
       "    <tr style=\"text-align: right;\">\n",
       "      <th></th>\n",
       "      <th>srcIp</th>\n",
       "      <th>distIp</th>\n",
       "      <th>srcPort</th>\n",
       "      <th>distPort</th>\n",
       "      <th>time</th>\n",
       "      <th>length</th>\n",
       "      <th>TCP</th>\n",
       "    </tr>\n",
       "  </thead>\n",
       "  <tbody>\n",
       "    <tr>\n",
       "      <th>0</th>\n",
       "      <td>10.0.2.15</td>\n",
       "      <td>10.0.2.3</td>\n",
       "      <td>43304</td>\n",
       "      <td>53</td>\n",
       "      <td>1362773854.268346</td>\n",
       "      <td>58</td>\n",
       "      <td>0</td>\n",
       "    </tr>\n",
       "    <tr>\n",
       "      <th>1</th>\n",
       "      <td>10.0.2.3</td>\n",
       "      <td>10.0.2.15</td>\n",
       "      <td>53</td>\n",
       "      <td>43304</td>\n",
       "      <td>1362773855.561569</td>\n",
       "      <td>128</td>\n",
       "      <td>0</td>\n",
       "    </tr>\n",
       "    <tr>\n",
       "      <th>2</th>\n",
       "      <td>10.0.2.15</td>\n",
       "      <td>61.147.115.37</td>\n",
       "      <td>51794</td>\n",
       "      <td>80</td>\n",
       "      <td>1362773855.573770</td>\n",
       "      <td>60</td>\n",
       "      <td>1</td>\n",
       "    </tr>\n",
       "    <tr>\n",
       "      <th>3</th>\n",
       "      <td>61.147.115.37</td>\n",
       "      <td>10.0.2.15</td>\n",
       "      <td>80</td>\n",
       "      <td>51794</td>\n",
       "      <td>1362773856.007992</td>\n",
       "      <td>44</td>\n",
       "      <td>1</td>\n",
       "    </tr>\n",
       "    <tr>\n",
       "      <th>4</th>\n",
       "      <td>10.0.2.15</td>\n",
       "      <td>61.147.115.37</td>\n",
       "      <td>51794</td>\n",
       "      <td>80</td>\n",
       "      <td>1362773856.009029</td>\n",
       "      <td>40</td>\n",
       "      <td>1</td>\n",
       "    </tr>\n",
       "    <tr>\n",
       "      <th>...</th>\n",
       "      <td>...</td>\n",
       "      <td>...</td>\n",
       "      <td>...</td>\n",
       "      <td>...</td>\n",
       "      <td>...</td>\n",
       "      <td>...</td>\n",
       "      <td>...</td>\n",
       "    </tr>\n",
       "    <tr>\n",
       "      <th>1092</th>\n",
       "      <td>10.0.2.15</td>\n",
       "      <td>61.147.115.37</td>\n",
       "      <td>39383</td>\n",
       "      <td>80</td>\n",
       "      <td>1362773958.891449</td>\n",
       "      <td>40</td>\n",
       "      <td>1</td>\n",
       "    </tr>\n",
       "    <tr>\n",
       "      <th>1093</th>\n",
       "      <td>61.147.115.37</td>\n",
       "      <td>10.0.2.15</td>\n",
       "      <td>80</td>\n",
       "      <td>39383</td>\n",
       "      <td>1362773963.663704</td>\n",
       "      <td>41</td>\n",
       "      <td>1</td>\n",
       "    </tr>\n",
       "    <tr>\n",
       "      <th>1094</th>\n",
       "      <td>10.0.2.15</td>\n",
       "      <td>61.147.115.37</td>\n",
       "      <td>39383</td>\n",
       "      <td>80</td>\n",
       "      <td>1362773963.664607</td>\n",
       "      <td>40</td>\n",
       "      <td>1</td>\n",
       "    </tr>\n",
       "    <tr>\n",
       "      <th>1095</th>\n",
       "      <td>61.147.115.37</td>\n",
       "      <td>10.0.2.15</td>\n",
       "      <td>80</td>\n",
       "      <td>39383</td>\n",
       "      <td>1362773968.673496</td>\n",
       "      <td>41</td>\n",
       "      <td>1</td>\n",
       "    </tr>\n",
       "    <tr>\n",
       "      <th>1096</th>\n",
       "      <td>10.0.2.15</td>\n",
       "      <td>61.147.115.37</td>\n",
       "      <td>39383</td>\n",
       "      <td>80</td>\n",
       "      <td>1362773968.673897</td>\n",
       "      <td>40</td>\n",
       "      <td>1</td>\n",
       "    </tr>\n",
       "  </tbody>\n",
       "</table>\n",
       "<p>1097 rows × 7 columns</p>\n",
       "</div>"
      ],
      "text/plain": [
       "              srcIp         distIp srcPort distPort               time length  \\\n",
       "0         10.0.2.15       10.0.2.3   43304       53  1362773854.268346     58   \n",
       "1          10.0.2.3      10.0.2.15      53    43304  1362773855.561569    128   \n",
       "2         10.0.2.15  61.147.115.37   51794       80  1362773855.573770     60   \n",
       "3     61.147.115.37      10.0.2.15      80    51794  1362773856.007992     44   \n",
       "4         10.0.2.15  61.147.115.37   51794       80  1362773856.009029     40   \n",
       "...             ...            ...     ...      ...                ...    ...   \n",
       "1092      10.0.2.15  61.147.115.37   39383       80  1362773958.891449     40   \n",
       "1093  61.147.115.37      10.0.2.15      80    39383  1362773963.663704     41   \n",
       "1094      10.0.2.15  61.147.115.37   39383       80  1362773963.664607     40   \n",
       "1095  61.147.115.37      10.0.2.15      80    39383  1362773968.673496     41   \n",
       "1096      10.0.2.15  61.147.115.37   39383       80  1362773968.673897     40   \n",
       "\n",
       "     TCP  \n",
       "0      0  \n",
       "1      0  \n",
       "2      1  \n",
       "3      1  \n",
       "4      1  \n",
       "...   ..  \n",
       "1092   1  \n",
       "1093   1  \n",
       "1094   1  \n",
       "1095   1  \n",
       "1096   1  \n",
       "\n",
       "[1097 rows x 7 columns]"
      ]
     },
     "execution_count": 4,
     "metadata": {},
     "output_type": "execute_result"
    }
   ],
   "source": [
    "###################################\n",
    "# 示例：可以将pcap文件解析为下面这种格式\n",
    "###################################\n",
    "\n",
    "pkts = rdpcap('/Users/lfg/Downloads/恶意pcap/004f18054d3aca49bcb1faf6e515ac81.pcap')\n",
    "analyse_pcap(pkts,'111')"
   ]
  },
  {
   "cell_type": "code",
   "execution_count": 68,
   "metadata": {
    "ExecuteTime": {
     "end_time": "2020-09-08T06:48:39.078458Z",
     "start_time": "2020-09-08T06:48:26.359928Z"
    }
   },
   "outputs": [],
   "source": [
    "# i用来控制一次解析的文件数量\n",
    "i = 0\n",
    "for root,dirs,files in os.walk(target):\n",
    "    r = False\n",
    "    for file in files:\n",
    "        try:\n",
    "            path = os.path.join(root,file)\n",
    "            md5 = path.split('/')[-1].split('.')[0]\n",
    "            pkts = rdpcap(path)\n",
    "            analyse_pcap(pkts,md5)\n",
    "            i += 1\n",
    "            if i == 700:\n",
    "                f = True\n",
    "                break\n",
    "        except:\n",
    "            pass\n",
    "    if r:\n",
    "        break"
   ]
  },
  {
   "cell_type": "markdown",
   "metadata": {},
   "source": [
    "### 提取特征"
   ]
  },
  {
   "cell_type": "markdown",
   "metadata": {},
   "source": [
    "#### Average Packet Size"
   ]
  },
  {
   "cell_type": "code",
   "execution_count": 8,
   "metadata": {
    "ExecuteTime": {
     "end_time": "2020-09-08T06:07:07.398481Z",
     "start_time": "2020-09-08T06:07:07.395395Z"
    }
   },
   "outputs": [],
   "source": [
    "def Average_Packet_Size(df):\n",
    "    try:\n",
    "        return df['length'].sum() / df['length'].count()\n",
    "    except:\n",
    "        return np.nan"
   ]
  },
  {
   "cell_type": "code",
   "execution_count": 18,
   "metadata": {
    "ExecuteTime": {
     "end_time": "2020-06-09T07:53:04.437858Z",
     "start_time": "2020-06-09T07:53:04.433192Z"
    }
   },
   "outputs": [
    {
     "data": {
      "text/plain": [
       "400.85225505443236"
      ]
     },
     "execution_count": 18,
     "metadata": {},
     "output_type": "execute_result"
    }
   ],
   "source": [
    "Average_Packet_Size(df)"
   ]
  },
  {
   "cell_type": "markdown",
   "metadata": {},
   "source": [
    "#### Ratio of Incoming to Outgoing Bytes"
   ]
  },
  {
   "cell_type": "code",
   "execution_count": 9,
   "metadata": {
    "ExecuteTime": {
     "end_time": "2020-09-08T06:07:09.314158Z",
     "start_time": "2020-09-08T06:07:09.309959Z"
    }
   },
   "outputs": [],
   "source": [
    "def Ratio_of_Incoming_to_Outgoing_Bytes(df,Ip):\n",
    "    try:\n",
    "        srcs = df[df['srcIp'] == Ip]\n",
    "        dists = df[df['distIp'] == Ip]\n",
    "        return srcs['length'].sum() / dists['length'].sum()\n",
    "    except:\n",
    "        return np.nan"
   ]
  },
  {
   "cell_type": "code",
   "execution_count": 14,
   "metadata": {
    "ExecuteTime": {
     "end_time": "2020-06-09T07:45:17.827699Z",
     "start_time": "2020-06-09T07:45:17.821801Z"
    }
   },
   "outputs": [
    {
     "data": {
      "text/plain": [
       "0.2386966551326413"
      ]
     },
     "execution_count": 14,
     "metadata": {},
     "output_type": "execute_result"
    }
   ],
   "source": [
    "Ratio_of_Incoming_to_Outgoing_Bytes(df,'10.0.2.15')"
   ]
  },
  {
   "cell_type": "markdown",
   "metadata": {},
   "source": [
    "#### Average Number of Bytes Received per Second"
   ]
  },
  {
   "cell_type": "code",
   "execution_count": 10,
   "metadata": {
    "ExecuteTime": {
     "end_time": "2020-09-08T06:07:36.242165Z",
     "start_time": "2020-09-08T06:07:36.237129Z"
    }
   },
   "outputs": [],
   "source": [
    "def Average_Number_of_Bytes_Received_per_Second(df,distIp):\n",
    "    try:\n",
    "        group = df[df['distIp'] == distIp]\n",
    "        group = group.sort_values(by = 'time',ascending = True,ignore_index = True)\n",
    "        t = group.loc[len(group) - 1,'time'] - group.loc[0,'time']\n",
    "        res = group['length'].sum() / t\n",
    "        return res\n",
    "    except:\n",
    "        return np.nan"
   ]
  },
  {
   "cell_type": "code",
   "execution_count": 16,
   "metadata": {
    "ExecuteTime": {
     "end_time": "2020-06-09T07:46:12.476129Z",
     "start_time": "2020-06-09T07:46:12.468673Z"
    }
   },
   "outputs": [
    {
     "data": {
      "text/plain": [
       "896.6701897991172"
      ]
     },
     "execution_count": 16,
     "metadata": {},
     "output_type": "execute_result"
    }
   ],
   "source": [
    "Average_Number_of_Bytes_Received_per_Second(df,'10.0.2.15')"
   ]
  },
  {
   "cell_type": "markdown",
   "metadata": {},
   "source": [
    "#### Average Number of Packets Sent per Flow"
   ]
  },
  {
   "cell_type": "code",
   "execution_count": 11,
   "metadata": {
    "ExecuteTime": {
     "end_time": "2020-09-08T06:07:39.441755Z",
     "start_time": "2020-09-08T06:07:39.436383Z"
    }
   },
   "outputs": [],
   "source": [
    "def Average_Number_of_Packets_Sent_per_Flow(df,srcIp):\n",
    "    try:\n",
    "        group = df[df['srcIp'] == srcIp]\n",
    "        count = 0\n",
    "\n",
    "        for sPort in list(group['srcPort'].unique()):\n",
    "            g = group[group['srcPort'] == sPort]\n",
    "            for dIp in list(g['distIp'].unique()):\n",
    "                d = g[g['distIp'] == dIp]\n",
    "\n",
    "                count += len(list(d['distPort'].unique()))\n",
    "        res = group['srcIp'].count() / count\n",
    "        return res\n",
    "    except:\n",
    "        return np.nan"
   ]
  },
  {
   "cell_type": "code",
   "execution_count": 20,
   "metadata": {
    "ExecuteTime": {
     "end_time": "2020-06-09T07:55:35.642865Z",
     "start_time": "2020-06-09T07:55:35.554825Z"
    }
   },
   "outputs": [
    {
     "data": {
      "text/plain": [
       "8.525"
      ]
     },
     "execution_count": 20,
     "metadata": {},
     "output_type": "execute_result"
    }
   ],
   "source": [
    "Average_Number_of_Packets_Sent_per_Flow(df,'10.0.2.15')"
   ]
  },
  {
   "cell_type": "markdown",
   "metadata": {},
   "source": [
    "#### Average Number of Packets Received per Flow"
   ]
  },
  {
   "cell_type": "code",
   "execution_count": 12,
   "metadata": {
    "ExecuteTime": {
     "end_time": "2020-09-08T06:07:42.493603Z",
     "start_time": "2020-09-08T06:07:42.487563Z"
    }
   },
   "outputs": [],
   "source": [
    "def Average_Number_of_Packets_Received_per_Flow(df,distIp):\n",
    "    try:\n",
    "        group = df[df['distIp'] == distIp]\n",
    "        count = 0\n",
    "        l = len(list(group['distPort'].unique()))\n",
    "        for dPort in list(group['distPort'].unique()):\n",
    "            g = group[group['distPort'] == dPort]\n",
    "            for sIp in list(g['srcIp'].unique()):\n",
    "                d = g[g['srcIp'] == sIp]\n",
    "\n",
    "                count += len(list(d['srcPort'].unique()))\n",
    "        res = group['distIp'].count() / count\n",
    "        return res\n",
    "    except:\n",
    "        return np.nan"
   ]
  },
  {
   "cell_type": "code",
   "execution_count": 22,
   "metadata": {
    "ExecuteTime": {
     "end_time": "2020-06-09T07:57:33.713217Z",
     "start_time": "2020-06-09T07:57:33.641858Z"
    }
   },
   "outputs": [
    {
     "data": {
      "text/plain": [
       "7.55"
      ]
     },
     "execution_count": 22,
     "metadata": {},
     "output_type": "execute_result"
    }
   ],
   "source": [
    "Average_Number_of_Packets_Received_per_Flow(df,'10.0.2.15')"
   ]
  },
  {
   "cell_type": "markdown",
   "metadata": {},
   "source": [
    "#### Average Number of Bytes Sent per Flow"
   ]
  },
  {
   "cell_type": "code",
   "execution_count": 13,
   "metadata": {
    "ExecuteTime": {
     "end_time": "2020-09-08T06:07:45.724302Z",
     "start_time": "2020-09-08T06:07:45.718508Z"
    }
   },
   "outputs": [],
   "source": [
    "def Average_Number_of_Packets_Sent_per_Flow(df,srcIp):\n",
    "    try:\n",
    "        group = df[df['srcIp'] == srcIp]\n",
    "        count = 0\n",
    "        l = len(list(group['srcPort'].unique()))\n",
    "        for sPort in list(group['srcPort'].unique()):\n",
    "            g = group[group['srcPort'] == sPort]\n",
    "            for dIp in list(g['distIp'].unique()):\n",
    "                d = g[g['distIp'] == dIp]\n",
    "\n",
    "                count += len(list(d['distPort'].unique()))\n",
    "        res = group['length'].sum() / count\n",
    "        return res\n",
    "    except:\n",
    "        return np.nan"
   ]
  },
  {
   "cell_type": "code",
   "execution_count": 28,
   "metadata": {
    "ExecuteTime": {
     "end_time": "2020-06-09T08:08:16.358957Z",
     "start_time": "2020-06-09T08:08:16.289331Z"
    }
   },
   "outputs": [
    {
     "data": {
      "text/plain": [
       "1241.7"
      ]
     },
     "execution_count": 28,
     "metadata": {},
     "output_type": "execute_result"
    }
   ],
   "source": [
    "Average_Number_of_Packets_Sent_per_Flow(df,'10.0.2.15')"
   ]
  },
  {
   "cell_type": "markdown",
   "metadata": {},
   "source": [
    "#### Average Number of Bytes Received per Flow"
   ]
  },
  {
   "cell_type": "code",
   "execution_count": 14,
   "metadata": {
    "ExecuteTime": {
     "end_time": "2020-09-08T06:07:48.839253Z",
     "start_time": "2020-09-08T06:07:48.833299Z"
    }
   },
   "outputs": [],
   "source": [
    "def Average_Number_of_Bytes_Received_per_Flow(df,distIp):\n",
    "    try:\n",
    "        group = df[df['distIp'] == distIp]\n",
    "        count = 0\n",
    "        l = len(list(group['distPort'].unique()))\n",
    "        for dPort in list(group['distPort'].unique()):\n",
    "            g = group[group['distPort'] == dPort]\n",
    "            for sIp in list(g['srcIp'].unique()):\n",
    "                d = g[g['srcIp'] == sIp]\n",
    "\n",
    "                count += len(list(d['srcPort'].unique()))\n",
    "        res = group['length'].sum() / count\n",
    "        return res\n",
    "    except:\n",
    "        return np.nan"
   ]
  },
  {
   "cell_type": "code",
   "execution_count": 31,
   "metadata": {
    "ExecuteTime": {
     "end_time": "2020-06-09T08:09:55.771306Z",
     "start_time": "2020-06-09T08:09:55.694313Z"
    }
   },
   "outputs": [
    {
     "data": {
      "text/plain": [
       "5202.0"
      ]
     },
     "execution_count": 31,
     "metadata": {},
     "output_type": "execute_result"
    }
   ],
   "source": [
    "Average_Number_of_Bytes_Received_per_Flow(df,'10.0.2.15')"
   ]
  },
  {
   "cell_type": "markdown",
   "metadata": {},
   "source": [
    "### 7个特征合并"
   ]
  },
  {
   "cell_type": "code",
   "execution_count": 65,
   "metadata": {
    "ExecuteTime": {
     "end_time": "2020-09-08T06:46:16.932474Z",
     "start_time": "2020-09-08T06:46:16.929290Z"
    }
   },
   "outputs": [],
   "source": [
    "column = ['Average_Packet_Size','Ratio_of_Incoming_to_Outgoing_Bytes','Average_Number_of_Bytes_Received_per_Second','Average_Number_of_Packets_Sent_per_Flow','Average_Number_of_Packets_Received_per_Flow','Average_Number_of_Bytes_Sent_per_Flow','Average_Number_of_Bytes_Received_per_Flow']"
   ]
  },
  {
   "cell_type": "code",
   "execution_count": 69,
   "metadata": {
    "ExecuteTime": {
     "end_time": "2020-09-08T06:49:54.841834Z",
     "start_time": "2020-09-08T06:49:50.233731Z"
    },
    "scrolled": true
   },
   "outputs": [
    {
     "name": "stderr",
     "output_type": "stream",
     "text": [
      "/Users/lfg/.virtualenvs/python3.7/lib/python3.7/site-packages/ipykernel_launcher.py:5: RuntimeWarning: divide by zero encountered in long_scalars\n",
      "  \"\"\"\n",
      "/Users/lfg/.virtualenvs/python3.7/lib/python3.7/site-packages/ipykernel_launcher.py:12: RuntimeWarning: invalid value encountered in long_scalars\n",
      "  if sys.path[0] == '':\n"
     ]
    }
   ],
   "source": [
    "###################################################\n",
    "# 分别从恶意和非恶意解析后的csv文件夹中读取数据，形成特征集\n",
    "###################################################\n",
    "\n",
    "# 控制数据量\n",
    "index = 0\n",
    "trait = pd.DataFrame(columns = column)\n",
    "for root,dirs,files in os.walk(target_file):\n",
    "    if index > 11000:\n",
    "        break\n",
    "    for file in files:\n",
    "        path = os.path.join(root,file)\n",
    "        c = pd.read_csv(path)\n",
    "        if index > 11000:\n",
    "            break\n",
    "        try:\n",
    "            for srcIp in list(c['srcIp'].unique()):\n",
    "\n",
    "                mid = []\n",
    "                mid.append(Average_Packet_Size(c))\n",
    "                mid.append(Ratio_of_Incoming_to_Outgoing_Bytes(c,srcIp))\n",
    "                mid.append(Average_Number_of_Bytes_Received_per_Second(c,srcIp))\n",
    "                mid.append(Average_Number_of_Packets_Sent_per_Flow(c,srcIp))\n",
    "                mid.append(Average_Number_of_Packets_Received_per_Flow(c,srcIp))\n",
    "                mid.append(Average_Number_of_Packets_Sent_per_Flow(c,srcIp))\n",
    "                mid.append(Average_Number_of_Bytes_Received_per_Flow(c,srcIp))\n",
    "                \n",
    "                trait.loc[index] = mid\n",
    "                index += 1\n",
    "                if index > 11000:\n",
    "                    break\n",
    "        except:\n",
    "            pass"
   ]
  },
  {
   "cell_type": "code",
   "execution_count": 52,
   "metadata": {
    "ExecuteTime": {
     "end_time": "2020-09-08T06:40:53.832749Z",
     "start_time": "2020-09-08T06:40:53.828326Z"
    }
   },
   "outputs": [],
   "source": [
    "trait = pd.concat([trait_b,trait_m])"
   ]
  },
  {
   "cell_type": "code",
   "execution_count": 53,
   "metadata": {
    "ExecuteTime": {
     "end_time": "2020-09-08T06:40:54.390353Z",
     "start_time": "2020-09-08T06:40:54.374397Z"
    }
   },
   "outputs": [
    {
     "data": {
      "text/html": [
       "<div>\n",
       "<style scoped>\n",
       "    .dataframe tbody tr th:only-of-type {\n",
       "        vertical-align: middle;\n",
       "    }\n",
       "\n",
       "    .dataframe tbody tr th {\n",
       "        vertical-align: top;\n",
       "    }\n",
       "\n",
       "    .dataframe thead th {\n",
       "        text-align: right;\n",
       "    }\n",
       "</style>\n",
       "<table border=\"1\" class=\"dataframe\">\n",
       "  <thead>\n",
       "    <tr style=\"text-align: right;\">\n",
       "      <th></th>\n",
       "      <th>Average_Packet_Size</th>\n",
       "      <th>Ratio_of_Incoming_to_Outgoing_Bytes</th>\n",
       "      <th>Average_Number_of_Bytes_Received_per_Second</th>\n",
       "      <th>Average_Number_of_Packets_Sent_per_Flow</th>\n",
       "      <th>Average_Number_of_Packets_Received_per_Flow</th>\n",
       "      <th>Average_Number_of_Bytes_Sent_per_Flow</th>\n",
       "      <th>Average_Number_of_Bytes_Received_per_Flow</th>\n",
       "      <th>label</th>\n",
       "    </tr>\n",
       "  </thead>\n",
       "  <tbody>\n",
       "    <tr>\n",
       "      <th>0</th>\n",
       "      <td>499.167702</td>\n",
       "      <td>0.104490</td>\n",
       "      <td>606.796107</td>\n",
       "      <td>691.181818</td>\n",
       "      <td>7.272727</td>\n",
       "      <td>691.181818</td>\n",
       "      <td>6614.818182</td>\n",
       "      <td>0</td>\n",
       "    </tr>\n",
       "    <tr>\n",
       "      <th>1</th>\n",
       "      <td>499.167702</td>\n",
       "      <td>4.230159</td>\n",
       "      <td>2.157807</td>\n",
       "      <td>266.500000</td>\n",
       "      <td>1.000000</td>\n",
       "      <td>266.500000</td>\n",
       "      <td>63.000000</td>\n",
       "      <td>0</td>\n",
       "    </tr>\n",
       "    <tr>\n",
       "      <th>2</th>\n",
       "      <td>499.167702</td>\n",
       "      <td>13.395373</td>\n",
       "      <td>100.927322</td>\n",
       "      <td>12739.000000</td>\n",
       "      <td>15.000000</td>\n",
       "      <td>12739.000000</td>\n",
       "      <td>951.000000</td>\n",
       "      <td>0</td>\n",
       "    </tr>\n",
       "    <tr>\n",
       "      <th>3</th>\n",
       "      <td>499.167702</td>\n",
       "      <td>10.028467</td>\n",
       "      <td>45.782289</td>\n",
       "      <td>10427.600000</td>\n",
       "      <td>10.200000</td>\n",
       "      <td>10427.600000</td>\n",
       "      <td>1039.800000</td>\n",
       "      <td>0</td>\n",
       "    </tr>\n",
       "    <tr>\n",
       "      <th>4</th>\n",
       "      <td>499.167702</td>\n",
       "      <td>5.678601</td>\n",
       "      <td>123.393282</td>\n",
       "      <td>6820.000000</td>\n",
       "      <td>11.000000</td>\n",
       "      <td>6820.000000</td>\n",
       "      <td>1201.000000</td>\n",
       "      <td>0</td>\n",
       "    </tr>\n",
       "    <tr>\n",
       "      <th>...</th>\n",
       "      <td>...</td>\n",
       "      <td>...</td>\n",
       "      <td>...</td>\n",
       "      <td>...</td>\n",
       "      <td>...</td>\n",
       "      <td>...</td>\n",
       "      <td>...</td>\n",
       "      <td>...</td>\n",
       "    </tr>\n",
       "    <tr>\n",
       "      <th>3636</th>\n",
       "      <td>465.863568</td>\n",
       "      <td>0.425721</td>\n",
       "      <td>808.756066</td>\n",
       "      <td>384.000000</td>\n",
       "      <td>6.000000</td>\n",
       "      <td>384.000000</td>\n",
       "      <td>902.000000</td>\n",
       "      <td>1</td>\n",
       "    </tr>\n",
       "    <tr>\n",
       "      <th>3637</th>\n",
       "      <td>465.863568</td>\n",
       "      <td>26.574747</td>\n",
       "      <td>85.564317</td>\n",
       "      <td>21642.916667</td>\n",
       "      <td>15.500000</td>\n",
       "      <td>21642.916667</td>\n",
       "      <td>814.416667</td>\n",
       "      <td>1</td>\n",
       "    </tr>\n",
       "    <tr>\n",
       "      <th>3638</th>\n",
       "      <td>610.942308</td>\n",
       "      <td>0.054580</td>\n",
       "      <td>792.477975</td>\n",
       "      <td>913.444444</td>\n",
       "      <td>15.000000</td>\n",
       "      <td>913.444444</td>\n",
       "      <td>16736.000000</td>\n",
       "      <td>1</td>\n",
       "    </tr>\n",
       "    <tr>\n",
       "      <th>3639</th>\n",
       "      <td>610.942308</td>\n",
       "      <td>2.780822</td>\n",
       "      <td>306.537937</td>\n",
       "      <td>203.000000</td>\n",
       "      <td>1.000000</td>\n",
       "      <td>203.000000</td>\n",
       "      <td>73.000000</td>\n",
       "      <td>1</td>\n",
       "    </tr>\n",
       "    <tr>\n",
       "      <th>3640</th>\n",
       "      <td>610.942308</td>\n",
       "      <td>18.602848</td>\n",
       "      <td>42.478786</td>\n",
       "      <td>21459.714286</td>\n",
       "      <td>17.571429</td>\n",
       "      <td>21459.714286</td>\n",
       "      <td>1153.571429</td>\n",
       "      <td>1</td>\n",
       "    </tr>\n",
       "  </tbody>\n",
       "</table>\n",
       "<p>8266 rows × 8 columns</p>\n",
       "</div>"
      ],
      "text/plain": [
       "      Average_Packet_Size  Ratio_of_Incoming_to_Outgoing_Bytes  \\\n",
       "0              499.167702                             0.104490   \n",
       "1              499.167702                             4.230159   \n",
       "2              499.167702                            13.395373   \n",
       "3              499.167702                            10.028467   \n",
       "4              499.167702                             5.678601   \n",
       "...                   ...                                  ...   \n",
       "3636           465.863568                             0.425721   \n",
       "3637           465.863568                            26.574747   \n",
       "3638           610.942308                             0.054580   \n",
       "3639           610.942308                             2.780822   \n",
       "3640           610.942308                            18.602848   \n",
       "\n",
       "      Average_Number_of_Bytes_Received_per_Second  \\\n",
       "0                                      606.796107   \n",
       "1                                        2.157807   \n",
       "2                                      100.927322   \n",
       "3                                       45.782289   \n",
       "4                                      123.393282   \n",
       "...                                           ...   \n",
       "3636                                   808.756066   \n",
       "3637                                    85.564317   \n",
       "3638                                   792.477975   \n",
       "3639                                   306.537937   \n",
       "3640                                    42.478786   \n",
       "\n",
       "      Average_Number_of_Packets_Sent_per_Flow  \\\n",
       "0                                  691.181818   \n",
       "1                                  266.500000   \n",
       "2                                12739.000000   \n",
       "3                                10427.600000   \n",
       "4                                 6820.000000   \n",
       "...                                       ...   \n",
       "3636                               384.000000   \n",
       "3637                             21642.916667   \n",
       "3638                               913.444444   \n",
       "3639                               203.000000   \n",
       "3640                             21459.714286   \n",
       "\n",
       "      Average_Number_of_Packets_Received_per_Flow  \\\n",
       "0                                        7.272727   \n",
       "1                                        1.000000   \n",
       "2                                       15.000000   \n",
       "3                                       10.200000   \n",
       "4                                       11.000000   \n",
       "...                                           ...   \n",
       "3636                                     6.000000   \n",
       "3637                                    15.500000   \n",
       "3638                                    15.000000   \n",
       "3639                                     1.000000   \n",
       "3640                                    17.571429   \n",
       "\n",
       "      Average_Number_of_Bytes_Sent_per_Flow  \\\n",
       "0                                691.181818   \n",
       "1                                266.500000   \n",
       "2                              12739.000000   \n",
       "3                              10427.600000   \n",
       "4                               6820.000000   \n",
       "...                                     ...   \n",
       "3636                             384.000000   \n",
       "3637                           21642.916667   \n",
       "3638                             913.444444   \n",
       "3639                             203.000000   \n",
       "3640                           21459.714286   \n",
       "\n",
       "      Average_Number_of_Bytes_Received_per_Flow  label  \n",
       "0                                   6614.818182      0  \n",
       "1                                     63.000000      0  \n",
       "2                                    951.000000      0  \n",
       "3                                   1039.800000      0  \n",
       "4                                   1201.000000      0  \n",
       "...                                         ...    ...  \n",
       "3636                                 902.000000      1  \n",
       "3637                                 814.416667      1  \n",
       "3638                               16736.000000      1  \n",
       "3639                                  73.000000      1  \n",
       "3640                                1153.571429      1  \n",
       "\n",
       "[8266 rows x 8 columns]"
      ]
     },
     "execution_count": 53,
     "metadata": {},
     "output_type": "execute_result"
    }
   ],
   "source": [
    "trait"
   ]
  },
  {
   "cell_type": "code",
   "execution_count": 54,
   "metadata": {
    "ExecuteTime": {
     "end_time": "2020-09-08T06:41:05.246883Z",
     "start_time": "2020-09-08T06:41:05.242202Z"
    }
   },
   "outputs": [
    {
     "data": {
      "text/plain": [
       "Index(['Average_Packet_Size', 'Ratio_of_Incoming_to_Outgoing_Bytes',\n",
       "       'Average_Number_of_Bytes_Received_per_Second',\n",
       "       'Average_Number_of_Packets_Sent_per_Flow',\n",
       "       'Average_Number_of_Packets_Received_per_Flow',\n",
       "       'Average_Number_of_Bytes_Sent_per_Flow',\n",
       "       'Average_Number_of_Bytes_Received_per_Flow', 'label'],\n",
       "      dtype='object')"
      ]
     },
     "execution_count": 54,
     "metadata": {},
     "output_type": "execute_result"
    }
   ],
   "source": [
    "trait.columns"
   ]
  },
  {
   "cell_type": "code",
   "execution_count": 72,
   "metadata": {
    "ExecuteTime": {
     "end_time": "2020-09-08T06:51:28.613467Z",
     "start_time": "2020-09-08T06:51:28.595216Z"
    }
   },
   "outputs": [
    {
     "data": {
      "text/html": [
       "<div>\n",
       "<style scoped>\n",
       "    .dataframe tbody tr th:only-of-type {\n",
       "        vertical-align: middle;\n",
       "    }\n",
       "\n",
       "    .dataframe tbody tr th {\n",
       "        vertical-align: top;\n",
       "    }\n",
       "\n",
       "    .dataframe thead th {\n",
       "        text-align: right;\n",
       "    }\n",
       "</style>\n",
       "<table border=\"1\" class=\"dataframe\">\n",
       "  <thead>\n",
       "    <tr style=\"text-align: right;\">\n",
       "      <th></th>\n",
       "      <th>Average_Packet_Size</th>\n",
       "      <th>Ratio_of_Incoming_to_Outgoing_Bytes</th>\n",
       "      <th>Average_Number_of_Bytes_Received_per_Second</th>\n",
       "      <th>Average_Number_of_Packets_Sent_per_Flow</th>\n",
       "      <th>Average_Number_of_Packets_Received_per_Flow</th>\n",
       "      <th>Average_Number_of_Bytes_Sent_per_Flow</th>\n",
       "      <th>Average_Number_of_Bytes_Received_per_Flow</th>\n",
       "    </tr>\n",
       "  </thead>\n",
       "  <tbody>\n",
       "    <tr>\n",
       "      <th>0</th>\n",
       "      <td>69.625000</td>\n",
       "      <td>1.897269</td>\n",
       "      <td>67.766846</td>\n",
       "      <td>364.750000</td>\n",
       "      <td>4.200000</td>\n",
       "      <td>364.750000</td>\n",
       "      <td>307.600000</td>\n",
       "    </tr>\n",
       "    <tr>\n",
       "      <th>1</th>\n",
       "      <td>69.625000</td>\n",
       "      <td>0.829971</td>\n",
       "      <td>30.578858</td>\n",
       "      <td>576.000000</td>\n",
       "      <td>8.000000</td>\n",
       "      <td>576.000000</td>\n",
       "      <td>694.000000</td>\n",
       "    </tr>\n",
       "    <tr>\n",
       "      <th>2</th>\n",
       "      <td>69.625000</td>\n",
       "      <td>0.511111</td>\n",
       "      <td>485.381785</td>\n",
       "      <td>92.000000</td>\n",
       "      <td>4.000000</td>\n",
       "      <td>92.000000</td>\n",
       "      <td>180.000000</td>\n",
       "    </tr>\n",
       "    <tr>\n",
       "      <th>3</th>\n",
       "      <td>69.625000</td>\n",
       "      <td>0.860619</td>\n",
       "      <td>1314.569004</td>\n",
       "      <td>389.000000</td>\n",
       "      <td>5.500000</td>\n",
       "      <td>389.000000</td>\n",
       "      <td>452.000000</td>\n",
       "    </tr>\n",
       "    <tr>\n",
       "      <th>6</th>\n",
       "      <td>87.116883</td>\n",
       "      <td>2.552966</td>\n",
       "      <td>184.099967</td>\n",
       "      <td>321.333333</td>\n",
       "      <td>3.666667</td>\n",
       "      <td>321.333333</td>\n",
       "      <td>629.333333</td>\n",
       "    </tr>\n",
       "    <tr>\n",
       "      <th>...</th>\n",
       "      <td>...</td>\n",
       "      <td>...</td>\n",
       "      <td>...</td>\n",
       "      <td>...</td>\n",
       "      <td>...</td>\n",
       "      <td>...</td>\n",
       "      <td>...</td>\n",
       "    </tr>\n",
       "    <tr>\n",
       "      <th>248</th>\n",
       "      <td>538.000000</td>\n",
       "      <td>16.646648</td>\n",
       "      <td>70.305836</td>\n",
       "      <td>35757.000000</td>\n",
       "      <td>31.000000</td>\n",
       "      <td>35757.000000</td>\n",
       "      <td>2148.000000</td>\n",
       "    </tr>\n",
       "    <tr>\n",
       "      <th>249</th>\n",
       "      <td>121.555556</td>\n",
       "      <td>0.838655</td>\n",
       "      <td>619.862610</td>\n",
       "      <td>499.000000</td>\n",
       "      <td>4.000000</td>\n",
       "      <td>499.000000</td>\n",
       "      <td>595.000000</td>\n",
       "    </tr>\n",
       "    <tr>\n",
       "      <th>250</th>\n",
       "      <td>121.555556</td>\n",
       "      <td>1.192385</td>\n",
       "      <td>271.758089</td>\n",
       "      <td>595.000000</td>\n",
       "      <td>5.000000</td>\n",
       "      <td>595.000000</td>\n",
       "      <td>499.000000</td>\n",
       "    </tr>\n",
       "    <tr>\n",
       "      <th>251</th>\n",
       "      <td>101.833333</td>\n",
       "      <td>2.916667</td>\n",
       "      <td>750.573186</td>\n",
       "      <td>455.000000</td>\n",
       "      <td>3.000000</td>\n",
       "      <td>455.000000</td>\n",
       "      <td>156.000000</td>\n",
       "    </tr>\n",
       "    <tr>\n",
       "      <th>252</th>\n",
       "      <td>101.833333</td>\n",
       "      <td>0.342857</td>\n",
       "      <td>1912.422495</td>\n",
       "      <td>156.000000</td>\n",
       "      <td>3.000000</td>\n",
       "      <td>156.000000</td>\n",
       "      <td>455.000000</td>\n",
       "    </tr>\n",
       "  </tbody>\n",
       "</table>\n",
       "<p>183 rows × 7 columns</p>\n",
       "</div>"
      ],
      "text/plain": [
       "     Average_Packet_Size  Ratio_of_Incoming_to_Outgoing_Bytes  \\\n",
       "0              69.625000                             1.897269   \n",
       "1              69.625000                             0.829971   \n",
       "2              69.625000                             0.511111   \n",
       "3              69.625000                             0.860619   \n",
       "6              87.116883                             2.552966   \n",
       "..                   ...                                  ...   \n",
       "248           538.000000                            16.646648   \n",
       "249           121.555556                             0.838655   \n",
       "250           121.555556                             1.192385   \n",
       "251           101.833333                             2.916667   \n",
       "252           101.833333                             0.342857   \n",
       "\n",
       "     Average_Number_of_Bytes_Received_per_Second  \\\n",
       "0                                      67.766846   \n",
       "1                                      30.578858   \n",
       "2                                     485.381785   \n",
       "3                                    1314.569004   \n",
       "6                                     184.099967   \n",
       "..                                           ...   \n",
       "248                                    70.305836   \n",
       "249                                   619.862610   \n",
       "250                                   271.758089   \n",
       "251                                   750.573186   \n",
       "252                                  1912.422495   \n",
       "\n",
       "     Average_Number_of_Packets_Sent_per_Flow  \\\n",
       "0                                 364.750000   \n",
       "1                                 576.000000   \n",
       "2                                  92.000000   \n",
       "3                                 389.000000   \n",
       "6                                 321.333333   \n",
       "..                                       ...   \n",
       "248                             35757.000000   \n",
       "249                               499.000000   \n",
       "250                               595.000000   \n",
       "251                               455.000000   \n",
       "252                               156.000000   \n",
       "\n",
       "     Average_Number_of_Packets_Received_per_Flow  \\\n",
       "0                                       4.200000   \n",
       "1                                       8.000000   \n",
       "2                                       4.000000   \n",
       "3                                       5.500000   \n",
       "6                                       3.666667   \n",
       "..                                           ...   \n",
       "248                                    31.000000   \n",
       "249                                     4.000000   \n",
       "250                                     5.000000   \n",
       "251                                     3.000000   \n",
       "252                                     3.000000   \n",
       "\n",
       "     Average_Number_of_Bytes_Sent_per_Flow  \\\n",
       "0                               364.750000   \n",
       "1                               576.000000   \n",
       "2                                92.000000   \n",
       "3                               389.000000   \n",
       "6                               321.333333   \n",
       "..                                     ...   \n",
       "248                           35757.000000   \n",
       "249                             499.000000   \n",
       "250                             595.000000   \n",
       "251                             455.000000   \n",
       "252                             156.000000   \n",
       "\n",
       "     Average_Number_of_Bytes_Received_per_Flow  \n",
       "0                                   307.600000  \n",
       "1                                   694.000000  \n",
       "2                                   180.000000  \n",
       "3                                   452.000000  \n",
       "6                                   629.333333  \n",
       "..                                         ...  \n",
       "248                                2148.000000  \n",
       "249                                 595.000000  \n",
       "250                                 499.000000  \n",
       "251                                 156.000000  \n",
       "252                                 455.000000  \n",
       "\n",
       "[183 rows x 7 columns]"
      ]
     },
     "execution_count": 72,
     "metadata": {},
     "output_type": "execute_result"
    }
   ],
   "source": [
    "# 去除因为除0而产生的inf数据\n",
    "trait_d[np.isinf(trait_d)] = np.nan\n",
    "trait_d = trait_d.dropna(how = 'any')\n",
    "trait_d"
   ]
  },
  {
   "cell_type": "code",
   "execution_count": 40,
   "metadata": {
    "ExecuteTime": {
     "end_time": "2020-09-08T06:26:56.864059Z",
     "start_time": "2020-09-08T06:26:56.850813Z"
    }
   },
   "outputs": [
    {
     "name": "stderr",
     "output_type": "stream",
     "text": [
      "/Users/lfg/.virtualenvs/python3.7/lib/python3.7/site-packages/ipykernel_launcher.py:4: SettingWithCopyWarning: \n",
      "A value is trying to be set on a copy of a slice from a DataFrame.\n",
      "Try using .loc[row_indexer,col_indexer] = value instead\n",
      "\n",
      "See the caveats in the documentation: https://pandas.pydata.org/pandas-docs/stable/user_guide/indexing.html#returning-a-view-versus-a-copy\n",
      "  after removing the cwd from sys.path.\n"
     ]
    }
   ],
   "source": [
    "# 归一化\n",
    "for c in column:\n",
    "    zuixiao = trait[c].min()\n",
    "    zuida = trait[c].max()\n",
    "    trait[c] = (trait[c] - zuixiao) / (zuida - zuixiao)\n",
    "# trait.to_csv('/Users/lfg/Downloads/良性11.csv')"
   ]
  },
  {
   "cell_type": "markdown",
   "metadata": {},
   "source": [
    "### 加入机器学习算法"
   ]
  },
  {
   "cell_type": "code",
   "execution_count": 56,
   "metadata": {
    "ExecuteTime": {
     "end_time": "2020-09-08T06:41:15.919353Z",
     "start_time": "2020-09-08T06:41:15.916675Z"
    }
   },
   "outputs": [],
   "source": [
    "import pandas as pd\n",
    "from sklearn.model_selection import train_test_split\n",
    "from sklearn.tree import DecisionTreeClassifier"
   ]
  },
  {
   "cell_type": "code",
   "execution_count": 51,
   "metadata": {
    "ExecuteTime": {
     "end_time": "2020-09-08T06:31:28.591129Z",
     "start_time": "2020-09-08T06:31:28.574002Z"
    }
   },
   "outputs": [
    {
     "data": {
      "text/html": [
       "<div>\n",
       "<style scoped>\n",
       "    .dataframe tbody tr th:only-of-type {\n",
       "        vertical-align: middle;\n",
       "    }\n",
       "\n",
       "    .dataframe tbody tr th {\n",
       "        vertical-align: top;\n",
       "    }\n",
       "\n",
       "    .dataframe thead th {\n",
       "        text-align: right;\n",
       "    }\n",
       "</style>\n",
       "<table border=\"1\" class=\"dataframe\">\n",
       "  <thead>\n",
       "    <tr style=\"text-align: right;\">\n",
       "      <th></th>\n",
       "      <th>Average_Packet_Size</th>\n",
       "      <th>Ratio_of_Incoming_to_Outgoing_Bytes</th>\n",
       "      <th>Average_Number_of_Bytes_Received_per_Second</th>\n",
       "      <th>Average_Number_of_Packets_Sent_per_Flow</th>\n",
       "      <th>Average_Number_of_Packets_Received_per_Flow</th>\n",
       "      <th>Average_Number_of_Bytes_Sent_per_Flow</th>\n",
       "      <th>Average_Number_of_Bytes_Received_per_Flow</th>\n",
       "      <th>label</th>\n",
       "    </tr>\n",
       "  </thead>\n",
       "  <tbody>\n",
       "    <tr>\n",
       "      <th>118</th>\n",
       "      <td>0.257048</td>\n",
       "      <td>0.064696</td>\n",
       "      <td>1.164660e-05</td>\n",
       "      <td>0.003206</td>\n",
       "      <td>0.014758</td>\n",
       "      <td>0.003206</td>\n",
       "      <td>0.003744</td>\n",
       "      <td>1</td>\n",
       "    </tr>\n",
       "    <tr>\n",
       "      <th>1984</th>\n",
       "      <td>0.316869</td>\n",
       "      <td>0.136906</td>\n",
       "      <td>2.449566e-06</td>\n",
       "      <td>0.002047</td>\n",
       "      <td>0.009160</td>\n",
       "      <td>0.002047</td>\n",
       "      <td>0.001019</td>\n",
       "      <td>1</td>\n",
       "    </tr>\n",
       "    <tr>\n",
       "      <th>3230</th>\n",
       "      <td>0.241437</td>\n",
       "      <td>0.074754</td>\n",
       "      <td>4.965482e-07</td>\n",
       "      <td>0.002164</td>\n",
       "      <td>0.010687</td>\n",
       "      <td>0.002164</td>\n",
       "      <td>0.002126</td>\n",
       "      <td>0</td>\n",
       "    </tr>\n",
       "    <tr>\n",
       "      <th>944</th>\n",
       "      <td>0.165241</td>\n",
       "      <td>0.053810</td>\n",
       "      <td>7.131088e-06</td>\n",
       "      <td>0.002424</td>\n",
       "      <td>0.013740</td>\n",
       "      <td>0.002424</td>\n",
       "      <td>0.003393</td>\n",
       "      <td>1</td>\n",
       "    </tr>\n",
       "    <tr>\n",
       "      <th>1428</th>\n",
       "      <td>0.580530</td>\n",
       "      <td>0.358690</td>\n",
       "      <td>9.378684e-07</td>\n",
       "      <td>0.013827</td>\n",
       "      <td>0.027176</td>\n",
       "      <td>0.013827</td>\n",
       "      <td>0.002867</td>\n",
       "      <td>1</td>\n",
       "    </tr>\n",
       "    <tr>\n",
       "      <th>...</th>\n",
       "      <td>...</td>\n",
       "      <td>...</td>\n",
       "      <td>...</td>\n",
       "      <td>...</td>\n",
       "      <td>...</td>\n",
       "      <td>...</td>\n",
       "      <td>...</td>\n",
       "      <td>...</td>\n",
       "    </tr>\n",
       "    <tr>\n",
       "      <th>3330</th>\n",
       "      <td>0.154967</td>\n",
       "      <td>0.011596</td>\n",
       "      <td>3.645258e-07</td>\n",
       "      <td>0.000189</td>\n",
       "      <td>0.007634</td>\n",
       "      <td>0.000189</td>\n",
       "      <td>0.001246</td>\n",
       "      <td>0</td>\n",
       "    </tr>\n",
       "    <tr>\n",
       "      <th>2474</th>\n",
       "      <td>0.532721</td>\n",
       "      <td>0.008152</td>\n",
       "      <td>2.944196e-06</td>\n",
       "      <td>0.000325</td>\n",
       "      <td>0.009160</td>\n",
       "      <td>0.000325</td>\n",
       "      <td>0.003095</td>\n",
       "      <td>1</td>\n",
       "    </tr>\n",
       "    <tr>\n",
       "      <th>2117</th>\n",
       "      <td>0.654250</td>\n",
       "      <td>0.137320</td>\n",
       "      <td>5.557285e-06</td>\n",
       "      <td>0.011735</td>\n",
       "      <td>0.020420</td>\n",
       "      <td>0.011735</td>\n",
       "      <td>0.006556</td>\n",
       "      <td>0</td>\n",
       "    </tr>\n",
       "    <tr>\n",
       "      <th>4086</th>\n",
       "      <td>0.154671</td>\n",
       "      <td>0.041058</td>\n",
       "      <td>4.392771e-05</td>\n",
       "      <td>0.000821</td>\n",
       "      <td>0.008588</td>\n",
       "      <td>0.000821</td>\n",
       "      <td>0.001440</td>\n",
       "      <td>0</td>\n",
       "    </tr>\n",
       "    <tr>\n",
       "      <th>1609</th>\n",
       "      <td>0.316692</td>\n",
       "      <td>0.079941</td>\n",
       "      <td>1.932823e-07</td>\n",
       "      <td>0.000176</td>\n",
       "      <td>0.000000</td>\n",
       "      <td>0.000176</td>\n",
       "      <td>0.000028</td>\n",
       "      <td>0</td>\n",
       "    </tr>\n",
       "  </tbody>\n",
       "</table>\n",
       "<p>8122 rows × 8 columns</p>\n",
       "</div>"
      ],
      "text/plain": [
       "      Average_Packet_Size  Ratio_of_Incoming_to_Outgoing_Bytes  \\\n",
       "118              0.257048                             0.064696   \n",
       "1984             0.316869                             0.136906   \n",
       "3230             0.241437                             0.074754   \n",
       "944              0.165241                             0.053810   \n",
       "1428             0.580530                             0.358690   \n",
       "...                   ...                                  ...   \n",
       "3330             0.154967                             0.011596   \n",
       "2474             0.532721                             0.008152   \n",
       "2117             0.654250                             0.137320   \n",
       "4086             0.154671                             0.041058   \n",
       "1609             0.316692                             0.079941   \n",
       "\n",
       "      Average_Number_of_Bytes_Received_per_Second  \\\n",
       "118                                  1.164660e-05   \n",
       "1984                                 2.449566e-06   \n",
       "3230                                 4.965482e-07   \n",
       "944                                  7.131088e-06   \n",
       "1428                                 9.378684e-07   \n",
       "...                                           ...   \n",
       "3330                                 3.645258e-07   \n",
       "2474                                 2.944196e-06   \n",
       "2117                                 5.557285e-06   \n",
       "4086                                 4.392771e-05   \n",
       "1609                                 1.932823e-07   \n",
       "\n",
       "      Average_Number_of_Packets_Sent_per_Flow  \\\n",
       "118                                  0.003206   \n",
       "1984                                 0.002047   \n",
       "3230                                 0.002164   \n",
       "944                                  0.002424   \n",
       "1428                                 0.013827   \n",
       "...                                       ...   \n",
       "3330                                 0.000189   \n",
       "2474                                 0.000325   \n",
       "2117                                 0.011735   \n",
       "4086                                 0.000821   \n",
       "1609                                 0.000176   \n",
       "\n",
       "      Average_Number_of_Packets_Received_per_Flow  \\\n",
       "118                                      0.014758   \n",
       "1984                                     0.009160   \n",
       "3230                                     0.010687   \n",
       "944                                      0.013740   \n",
       "1428                                     0.027176   \n",
       "...                                           ...   \n",
       "3330                                     0.007634   \n",
       "2474                                     0.009160   \n",
       "2117                                     0.020420   \n",
       "4086                                     0.008588   \n",
       "1609                                     0.000000   \n",
       "\n",
       "      Average_Number_of_Bytes_Sent_per_Flow  \\\n",
       "118                                0.003206   \n",
       "1984                               0.002047   \n",
       "3230                               0.002164   \n",
       "944                                0.002424   \n",
       "1428                               0.013827   \n",
       "...                                     ...   \n",
       "3330                               0.000189   \n",
       "2474                               0.000325   \n",
       "2117                               0.011735   \n",
       "4086                               0.000821   \n",
       "1609                               0.000176   \n",
       "\n",
       "      Average_Number_of_Bytes_Received_per_Flow  label  \n",
       "118                                    0.003744      1  \n",
       "1984                                   0.001019      1  \n",
       "3230                                   0.002126      0  \n",
       "944                                    0.003393      1  \n",
       "1428                                   0.002867      1  \n",
       "...                                         ...    ...  \n",
       "3330                                   0.001246      0  \n",
       "2474                                   0.003095      1  \n",
       "2117                                   0.006556      0  \n",
       "4086                                   0.001440      0  \n",
       "1609                                   0.000028      0  \n",
       "\n",
       "[8122 rows x 8 columns]"
      ]
     },
     "execution_count": 51,
     "metadata": {},
     "output_type": "execute_result"
    }
   ],
   "source": [
    "trait"
   ]
  },
  {
   "cell_type": "code",
   "execution_count": 57,
   "metadata": {
    "ExecuteTime": {
     "end_time": "2020-09-08T06:41:23.113583Z",
     "start_time": "2020-09-08T06:41:23.109049Z"
    }
   },
   "outputs": [],
   "source": [
    "trait = trait.sample(frac = 1.0)"
   ]
  },
  {
   "cell_type": "code",
   "execution_count": 58,
   "metadata": {
    "ExecuteTime": {
     "end_time": "2020-09-08T06:41:26.360992Z",
     "start_time": "2020-09-08T06:41:26.356685Z"
    }
   },
   "outputs": [],
   "source": [
    "Y = trait['label']\n",
    "X = trait.drop('label',axis=1)"
   ]
  },
  {
   "cell_type": "code",
   "execution_count": 59,
   "metadata": {
    "ExecuteTime": {
     "end_time": "2020-09-08T06:41:30.199379Z",
     "start_time": "2020-09-08T06:41:30.192049Z"
    }
   },
   "outputs": [],
   "source": [
    "X_train,X_test,Y_train,Y_test = train_test_split(X,Y,test_size=0.1,random_state=12)"
   ]
  },
  {
   "cell_type": "code",
   "execution_count": 60,
   "metadata": {
    "ExecuteTime": {
     "end_time": "2020-09-08T06:41:35.193817Z",
     "start_time": "2020-09-08T06:41:35.123087Z"
    }
   },
   "outputs": [],
   "source": [
    "dtc = DecisionTreeClassifier()\n",
    "dtc.fit(X_train,Y_train)\n",
    "y_predict = dtc.predict(X_test)"
   ]
  },
  {
   "cell_type": "code",
   "execution_count": 61,
   "metadata": {
    "ExecuteTime": {
     "end_time": "2020-09-08T06:41:36.085038Z",
     "start_time": "2020-09-08T06:41:36.077868Z"
    }
   },
   "outputs": [
    {
     "data": {
      "text/plain": [
       "0.7023370233702337"
      ]
     },
     "execution_count": 61,
     "metadata": {},
     "output_type": "execute_result"
    }
   ],
   "source": [
    "dtc.score(X_test,Y_test)\n"
   ]
  }
 ],
 "metadata": {
  "hide_input": false,
  "kernelspec": {
   "display_name": "Python 3",
   "language": "python",
   "name": "python3"
  },
  "language_info": {
   "codemirror_mode": {
    "name": "ipython",
    "version": 3
   },
   "file_extension": ".py",
   "mimetype": "text/x-python",
   "name": "python",
   "nbconvert_exporter": "python",
   "pygments_lexer": "ipython3",
   "version": "3.7.6"
  },
  "toc": {
   "base_numbering": 1,
   "nav_menu": {},
   "number_sections": true,
   "sideBar": true,
   "skip_h1_title": false,
   "title_cell": "Table of Contents",
   "title_sidebar": "Contents",
   "toc_cell": false,
   "toc_position": {},
   "toc_section_display": true,
   "toc_window_display": false
  },
  "varInspector": {
   "cols": {
    "lenName": 16,
    "lenType": 16,
    "lenVar": 40
   },
   "kernels_config": {
    "python": {
     "delete_cmd_postfix": "",
     "delete_cmd_prefix": "del ",
     "library": "var_list.py",
     "varRefreshCmd": "print(var_dic_list())"
    },
    "r": {
     "delete_cmd_postfix": ") ",
     "delete_cmd_prefix": "rm(",
     "library": "var_list.r",
     "varRefreshCmd": "cat(var_dic_list()) "
    }
   },
   "types_to_exclude": [
    "module",
    "function",
    "builtin_function_or_method",
    "instance",
    "_Feature"
   ],
   "window_display": false
  }
 },
 "nbformat": 4,
 "nbformat_minor": 4
}
